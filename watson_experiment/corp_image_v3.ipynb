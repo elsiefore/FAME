{
 "cells": [
  {
   "cell_type": "code",
   "execution_count": 22,
   "metadata": {},
   "outputs": [],
   "source": [
    "# Adopted from \n",
    "# https://github.com/watson-developer-cloud/python-sdk/blob/master/examples/visual_recognition_v4.py\n",
    "\n",
    "import json\n",
    "import os\n",
    "import cv2"
   ]
  },
  {
   "cell_type": "code",
   "execution_count": 27,
   "metadata": {},
   "outputs": [],
   "source": [
    "target_img_path = \"/Users/dqin/Documents/FAME/watson_experiment/sample_face_and_result/img_404.jpg\"\n",
    "detection_output_path = \"/Users/dqin/Documents/FAME/watson_experiment/sample_face_and_result/sample_output.json\"\n",
    "output_path = \"/Users/dqin/Documents/FAME/watson_experiment/sample_face_and_result/\"\n",
    "\n",
    "with open(detection_output_path, \"r\") as f:\n",
    "    detection_json = json.load(f)"
   ]
  },
  {
   "cell_type": "markdown",
   "metadata": {},
   "source": [
    "### Corp Image using openCV"
   ]
  },
  {
   "cell_type": "code",
   "execution_count": 30,
   "metadata": {},
   "outputs": [],
   "source": [
    "def crop_single_image(img_path, detection_json, output_path):\n",
    "    raw_coordinates = [x['location'] for x in detection_json['images'][0]['objects']['collections'][0]['objects']]\n",
    "    img = cv2.imread(img_path)\n",
    "    crop_imgs = [img[coor['top']:coor['top']+coor['height'], coor['left']:coor['left']+coor['width']] for coor in raw_coordinates]\n",
    "    for i, crop_img in enumerate(crop_imgs):\n",
    "        cv2.imwrite(os.path.join(output_path, (\"face_\"+str(i)+\".jpg\")), crop_img)\n",
    "        \n",
    "crop_single_image(target_img_path, detection_json, output_path)\n"
   ]
  },
  {
   "cell_type": "code",
   "execution_count": null,
   "metadata": {},
   "outputs": [],
   "source": []
  },
  {
   "cell_type": "code",
   "execution_count": null,
   "metadata": {},
   "outputs": [],
   "source": []
  },
  {
   "cell_type": "code",
   "execution_count": 7,
   "metadata": {},
   "outputs": [
    {
     "name": "stdout",
     "output_type": "stream",
     "text": [
      "{\n",
      "  \"images\": [\n",
      "    {\n",
      "      \"source\": {\n",
      "        \"type\": \"file\",\n",
      "        \"filename\": \"img_404.jpg\"\n",
      "      },\n",
      "      \"dimensions\": {\n",
      "        \"height\": 316,\n",
      "        \"width\": 450\n",
      "      },\n",
      "      \"objects\": {\n",
      "        \"collections\": [\n",
      "          {\n",
      "            \"collection_id\": \"0105d854-d33a-455a-989f-91ce7048982c\",\n",
      "            \"objects\": [\n",
      "              {\n",
      "                \"object\": \"face\",\n",
      "                \"location\": {\n",
      "                  \"left\": 64,\n",
      "                  \"top\": 72,\n",
      "                  \"width\": 124,\n",
      "                  \"height\": 151\n",
      "                },\n",
      "                \"score\": 0.9937354\n",
      "              },\n",
      "              {\n",
      "                \"object\": \"face\",\n",
      "                \"location\": {\n",
      "                  \"left\": 228,\n",
      "                  \"top\": 30,\n",
      "                  \"width\": 182,\n",
      "                  \"height\": 200\n",
      "                },\n",
      "                \"score\": 0.9686894\n",
      "              }\n",
      "            ]\n",
      "          }\n",
      "        ]\n",
      "      }\n",
      "    }\n",
      "  ]\n",
      "}\n"
     ]
    }
   ],
   "source": [
    "# analyze\n",
    "with open(target_img_path, 'rb') as img_f:\n",
    "    analyze_images = service.analyze(\n",
    "        collection_ids=[collection_id],\n",
    "        features=[AnalyzeEnums.Features.OBJECTS.value],\n",
    "        images_file=[\n",
    "            FileWithMetadata(img_f)\n",
    "        ]).get_result()\n",
    "    print(json.dumps(analyze_images, indent=2))"
   ]
  }
 ],
 "metadata": {
  "kernelspec": {
   "display_name": "Python 3.6.6 64-bit ('ResearchNLP': conda)",
   "language": "python",
   "name": "python36664bitresearchnlpconda9fb3278d4e124d7eada32c7b62ed01c8"
  },
  "language_info": {
   "codemirror_mode": {
    "name": "ipython",
    "version": 3
   },
   "file_extension": ".py",
   "mimetype": "text/x-python",
   "name": "python",
   "nbconvert_exporter": "python",
   "pygments_lexer": "ipython3",
   "version": "3.6.6"
  }
 },
 "nbformat": 4,
 "nbformat_minor": 2
}
