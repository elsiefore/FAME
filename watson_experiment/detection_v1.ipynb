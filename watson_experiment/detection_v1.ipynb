{
 "cells": [
  {
   "cell_type": "code",
   "execution_count": 6,
   "metadata": {},
   "outputs": [],
   "source": [
    "# Adopted from \n",
    "# https://github.com/watson-developer-cloud/python-sdk/blob/master/examples/visual_recognition_v4.py\n",
    "\n",
    "import json\n",
    "import os\n",
    "from ibm_watson import VisualRecognitionV4\n",
    "from ibm_watson.visual_recognition_v4 import FileWithMetadata, TrainingDataObject, Location, AnalyzeEnums\n",
    "from ibm_cloud_sdk_core.authenticators import IAMAuthenticator\n"
   ]
  },
  {
   "cell_type": "code",
   "execution_count": 9,
   "metadata": {},
   "outputs": [],
   "source": [
    "authenticator = IAMAuthenticator('UNj_AQojzpzeg5q5FvmaMu2a3jathuqDB79_DjpAGJb_')\n",
    "\n",
    "service = VisualRecognitionV4(\n",
    "    '2020-03-20',\n",
    "    authenticator=authenticator)\n",
    "service.set_service_url('https://api.us-south.visual-recognition.watson.cloud.ibm.com/instances/de0d73f8-faaa-4318-9ed6-492a2822bf20')\n",
    "\n",
    "# create a classifier\n",
    "my_collection = service.create_collection(\n",
    "    name='obj_detection_test',\n",
    "    description='testing for python obj detection'\n",
    ").get_result()\n",
    "collection_id = my_collection.get('collection_id')\n"
   ]
  },
  {
   "cell_type": "code",
   "execution_count": 17,
   "metadata": {},
   "outputs": [
    {
     "data": {
      "text/plain": [
       "'/Users/dqin/Documents/FAME/watson_experiment/South_Africa_Luca_Galuzzi_2004.jpeg'"
      ]
     },
     "execution_count": 17,
     "metadata": {},
     "output_type": "execute_result"
    }
   ],
   "source": [
    "# Modify image path\n",
    "# os.path.join(os.path.abspath(''), 'South_Africa_Luca_Galuzzi_2004.jpeg')\n"
   ]
  },
  {
   "cell_type": "code",
   "execution_count": 18,
   "metadata": {},
   "outputs": [
    {
     "name": "stdout",
     "output_type": "stream",
     "text": [
      "{\n",
      "  \"images\": [\n",
      "    {\n",
      "      \"image_id\": \"South_Africa_Luca_Galuzzi_2004_202349062c2307571a3f7edc71fe819f\",\n",
      "      \"created\": \"2020-03-20T15:12:12.768Z\",\n",
      "      \"updated\": \"2020-03-20T15:12:12.768Z\",\n",
      "      \"source\": {\n",
      "        \"type\": \"file\",\n",
      "        \"filename\": \"South_Africa_Luca_Galuzzi_2004.jpeg\"\n",
      "      },\n",
      "      \"dimensions\": {\n",
      "        \"height\": 853,\n",
      "        \"width\": 1280\n",
      "      },\n",
      "      \"training_data\": {}\n",
      "    }\n",
      "  ]\n",
      "}\n"
     ]
    }
   ],
   "source": [
    "# add images (i.e. upload image to IBM)\n",
    "with open(os.path.join(os.path.abspath(''), 'resources/South_Africa_Luca_Galuzzi_2004.jpeg'), 'rb') as giraffe_info:\n",
    "    add_images_result = service.add_images(\n",
    "        collection_id,\n",
    "        images_file=[FileWithMetadata(giraffe_info)],\n",
    "    ).get_result()\n",
    "print(json.dumps(add_images_result, indent=2))\n",
    "image_id = add_images_result.get('images')[0].get('image_id')"
   ]
  },
  {
   "cell_type": "code",
   "execution_count": 19,
   "metadata": {},
   "outputs": [
    {
     "name": "stdout",
     "output_type": "stream",
     "text": [
      "{\n",
      "  \"objects\": [\n",
      "    {\n",
      "      \"object\": \"giraffe training data\",\n",
      "      \"location\": {\n",
      "        \"left\": 270,\n",
      "        \"top\": 64,\n",
      "        \"width\": 755,\n",
      "        \"height\": 784\n",
      "      }\n",
      "    }\n",
      "  ]\n",
      "}\n"
     ]
    }
   ],
   "source": [
    "# add image training data (label out the )\n",
    "training_data = service.add_image_training_data(\n",
    "    collection_id,\n",
    "    image_id,\n",
    "    objects=[\n",
    "        TrainingDataObject(object='giraffe training data',\n",
    "                           location=Location(64, 270, 755, 784))\n",
    "    ]).get_result()\n",
    "print(json.dumps(training_data, indent=2))\n"
   ]
  },
  {
   "cell_type": "code",
   "execution_count": 20,
   "metadata": {},
   "outputs": [
    {
     "name": "stdout",
     "output_type": "stream",
     "text": [
      "{\n",
      "  \"object\": \"updated giraffe training data\",\n",
      "  \"count\": 1\n",
      "}\n"
     ]
    }
   ],
   "source": [
    "# update object metadata\n",
    "updated_object_metadata = service.update_object_metadata(\n",
    "    collection_id=collection_id,\n",
    "    object='giraffe training data',\n",
    "    new_object='updated giraffe training data').get_result()\n",
    "print(json.dumps(updated_object_metadata, indent=2))\n"
   ]
  },
  {
   "cell_type": "code",
   "execution_count": 21,
   "metadata": {},
   "outputs": [
    {
     "name": "stdout",
     "output_type": "stream",
     "text": [
      "{\n",
      "  \"collection_id\": \"47e70760-dff3-4ebe-9098-3298b8f5b918\",\n",
      "  \"name\": \"obj_detection_test\",\n",
      "  \"description\": \"testing for python obj detection\",\n",
      "  \"created\": \"2020-03-20T15:04:52.299Z\",\n",
      "  \"updated\": \"2020-03-20T15:16:22.357Z\",\n",
      "  \"image_count\": 1,\n",
      "  \"training_status\": {\n",
      "    \"objects\": {\n",
      "      \"ready\": false,\n",
      "      \"in_progress\": true,\n",
      "      \"data_changed\": false,\n",
      "      \"latest_failed\": false,\n",
      "      \"description\": \"Training job queued.\"\n",
      "    }\n",
      "  }\n",
      "}\n"
     ]
    }
   ],
   "source": [
    "# train collection\n",
    "train_result = service.train(collection_id).get_result()\n",
    "print(json.dumps(train_result, indent=2))\n"
   ]
  },
  {
   "cell_type": "code",
   "execution_count": 27,
   "metadata": {},
   "outputs": [
    {
     "name": "stdout",
     "output_type": "stream",
     "text": [
      "{\n",
      "  \"start_time\": \"2019-10-01T00:00:00.000Z\",\n",
      "  \"end_time\": \"2020-03-20T23:59:59.000Z\",\n",
      "  \"completed_events\": 0,\n",
      "  \"trained_images\": 0,\n",
      "  \"events\": []\n",
      "}\n"
     ]
    }
   ],
   "source": [
    "# training usage\n",
    "training_usage = service.get_training_usage()\n",
    "print(json.dumps(training_usage.get_result(), indent=2))\n",
    "# training_usage.get_headers()"
   ]
  },
  {
   "cell_type": "code",
   "execution_count": 29,
   "metadata": {},
   "outputs": [
    {
     "name": "stdout",
     "output_type": "stream",
     "text": [
      "{\n",
      "  \"images\": [\n",
      "    {\n",
      "      \"source\": {\n",
      "        \"type\": \"file\",\n",
      "        \"filename\": \"dog.jpg\"\n",
      "      },\n",
      "      \"dimensions\": {\n",
      "        \"height\": 1174,\n",
      "        \"width\": 2048\n",
      "      },\n",
      "      \"objects\": {\n",
      "        \"collections\": [\n",
      "          {\n",
      "            \"collection_id\": \"47e70760-dff3-4ebe-9098-3298b8f5b918\",\n",
      "            \"objects\": [\n",
      "              {\n",
      "                \"object\": \"updated giraffe training data\",\n",
      "                \"location\": {\n",
      "                  \"left\": 349,\n",
      "                  \"top\": 18,\n",
      "                  \"width\": 1417,\n",
      "                  \"height\": 1108\n",
      "                },\n",
      "                \"score\": 0.978303\n",
      "              }\n",
      "            ]\n",
      "          }\n",
      "        ]\n",
      "      }\n",
      "    },\n",
      "    {\n",
      "      \"source\": {\n",
      "        \"type\": \"file\",\n",
      "        \"filename\": \"my-giraffe.jpeg\"\n",
      "      },\n",
      "      \"dimensions\": {\n",
      "        \"height\": 615,\n",
      "        \"width\": 410\n",
      "      },\n",
      "      \"objects\": {\n",
      "        \"collections\": [\n",
      "          {\n",
      "            \"collection_id\": \"47e70760-dff3-4ebe-9098-3298b8f5b918\",\n",
      "            \"objects\": [\n",
      "              {\n",
      "                \"object\": \"updated giraffe training data\",\n",
      "                \"location\": {\n",
      "                  \"left\": 40,\n",
      "                  \"top\": 51,\n",
      "                  \"width\": 277,\n",
      "                  \"height\": 539\n",
      "                },\n",
      "                \"score\": 0.9801778\n",
      "              }\n",
      "            ]\n",
      "          }\n",
      "        ]\n",
      "      }\n",
      "    },\n",
      "    {\n",
      "      \"source\": {\n",
      "        \"type\": \"url\",\n",
      "        \"source_url\": \"https://upload.wikimedia.org/wikipedia/commons/thumb/4/47/American_Eskimo_Dog.jpg/1280px-American_Eskimo_Dog.jpg\",\n",
      "        \"resolved_url\": \"https://upload.wikimedia.org/wikipedia/commons/thumb/4/47/American_Eskimo_Dog.jpg/1280px-American_Eskimo_Dog.jpg\"\n",
      "      },\n",
      "      \"dimensions\": {\n",
      "        \"height\": 1004,\n",
      "        \"width\": 1280\n",
      "      },\n",
      "      \"objects\": {\n",
      "        \"collections\": [\n",
      "          {\n",
      "            \"collection_id\": \"47e70760-dff3-4ebe-9098-3298b8f5b918\",\n",
      "            \"objects\": [\n",
      "              {\n",
      "                \"object\": \"updated giraffe training data\",\n",
      "                \"location\": {\n",
      "                  \"left\": 131,\n",
      "                  \"top\": 38,\n",
      "                  \"width\": 1057,\n",
      "                  \"height\": 946\n",
      "                },\n",
      "                \"score\": 0.9507857\n",
      "              }\n",
      "            ]\n",
      "          }\n",
      "        ]\n",
      "      }\n",
      "    }\n",
      "  ]\n",
      "}\n"
     ]
    }
   ],
   "source": [
    "# analyze\n",
    "dog_path = os.path.join(os.path.join(os.path.abspath(''), 'resources/dog.jpg'))\n",
    "giraffe_path = os.path.join(os.path.join(os.path.abspath(''), 'resources/my-giraffe.jpeg'))\n",
    "with open(dog_path, 'rb') as dog_file, open(giraffe_path, 'rb') as giraffe_files: # open two files at once...\n",
    "    analyze_images = service.analyze(\n",
    "        collection_ids=[collection_id],\n",
    "        features=[AnalyzeEnums.Features.OBJECTS.value],\n",
    "        images_file=[\n",
    "            FileWithMetadata(dog_file),\n",
    "            FileWithMetadata(giraffe_files)\n",
    "        ],\n",
    "        image_url=['https://upload.wikimedia.org/wikipedia/commons/thumb/4/47/American_Eskimo_Dog.jpg/1280px-American_Eskimo_Dog.jpg']).get_result()\n",
    "    print(json.dumps(analyze_images, indent=2))\n"
   ]
  },
  {
   "cell_type": "code",
   "execution_count": null,
   "metadata": {},
   "outputs": [],
   "source": []
  },
  {
   "cell_type": "code",
   "execution_count": null,
   "metadata": {},
   "outputs": [],
   "source": [
    "\n",
    "\n",
    "# delete collection\n",
    "# service.delete_collection(collection_id)"
   ]
  }
 ],
 "metadata": {
  "kernelspec": {
   "display_name": "Python 3.6.6 64-bit ('ResearchNLP': conda)",
   "language": "python",
   "name": "python36664bitresearchnlpconda9fb3278d4e124d7eada32c7b62ed01c8"
  },
  "language_info": {
   "codemirror_mode": {
    "name": "ipython",
    "version": 3
   },
   "file_extension": ".py",
   "mimetype": "text/x-python",
   "name": "python",
   "nbconvert_exporter": "python",
   "pygments_lexer": "ipython3",
   "version": "3.6.6"
  }
 },
 "nbformat": 4,
 "nbformat_minor": 2
}
