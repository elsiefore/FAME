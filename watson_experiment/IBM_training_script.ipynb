{
 "cells": [
  {
   "cell_type": "code",
   "execution_count": 8,
   "metadata": {},
   "outputs": [],
   "source": [
    "# Adopted from \n",
    "# https://github.com/watson-developer-cloud/python-sdk/blob/master/examples/visual_recognition_v4.py\n",
    "\n",
    "import json\n",
    "import os\n",
    "from pprint import pprint\n",
    "from ibm_watson import VisualRecognitionV4\n",
    "from ibm_watson.visual_recognition_v4 import FileWithMetadata, TrainingDataObject, Location, AnalyzeEnums\n",
    "from ibm_cloud_sdk_core.authenticators import IAMAuthenticator\n"
   ]
  },
  {
   "cell_type": "code",
   "execution_count": 3,
   "metadata": {},
   "outputs": [],
   "source": [
    "authenticator = IAMAuthenticator('UNj_AQojzpzeg5q5FvmaMu2a3jathuqDB79_DjpAGJb_')\n",
    "\n",
    "service = VisualRecognitionV4(\n",
    "    '2020-03-21',\n",
    "    authenticator=authenticator)\n",
    "service.set_service_url('https://api.us-south.visual-recognition.watson.cloud.ibm.com/instances/de0d73f8-faaa-4318-9ed6-492a2822bf20')\n",
    "\n",
    "# create a classifier\n",
    "my_collection = service.create_collection(\n",
    "    name='face_detection_test',\n",
    "    description='testing for face detection training'\n",
    ").get_result()\n",
    "\n",
    "collection_id = my_collection.get('collection_id')\n"
   ]
  },
  {
   "cell_type": "code",
   "execution_count": 45,
   "metadata": {},
   "outputs": [
    {
     "name": "stdout",
     "output_type": "stream",
     "text": [
      "80a7fa45-ab8e-44f5-8455-d5fa1f64053c\n"
     ]
    }
   ],
   "source": [
    "print(collection_id)"
   ]
  },
  {
   "cell_type": "markdown",
   "metadata": {},
   "source": [
    "### Prepare files for training"
   ]
  },
  {
   "cell_type": "code",
   "execution_count": 24,
   "metadata": {},
   "outputs": [],
   "source": [
    "annotation_path = \"/Users/dqin/Documents/FAME/watson_experiment/resources/FDDB-folds\"\n",
    "image_path = \"/Users/dqin/Documents/FAME/watson_experiment/resources/originalPics\"\n",
    "\n",
    "all_data = dict()\n",
    "\n",
    "anno_files = sorted([x for x in os.listdir(annotation_path) if 'transformed' in x])\n",
    "\n",
    "\n",
    "for f in anno_files:\n",
    "    with open(os.path.join(annotation_path, f), \"r\") as f:\n",
    "        cur_img_name = \"\"\n",
    "        for line in f:\n",
    "            if \"img_\" in line:\n",
    "                cur_img_name = line.strip()\n",
    "                all_data[cur_img_name] = dict()\n",
    "                all_data[cur_img_name]['faces'] = []\n",
    "                \n",
    "            elif line.strip().isdigit():\n",
    "                all_data[cur_img_name]['count'] = int(line.strip())\n",
    "                continue\n",
    "            else:\n",
    "                location = [int(float(x)) for x in line.strip().split(\", \")]\n",
    "                all_data[cur_img_name]['faces'].append(location)\n"
   ]
  },
  {
   "cell_type": "code",
   "execution_count": 27,
   "metadata": {},
   "outputs": [],
   "source": [
    "# Randomly Select a subset of 10 images for training...\n",
    "# Intentially select images that have multple faces.\n",
    "import random\n",
    "random.seed(1)\n",
    "\n",
    "single_img_ids = [k for k in all_data if all_data[k]['count']==1]\n",
    "multi_img_ids = [k for k in all_data if all_data[k]['count']>1]\n",
    "# len(multi_img_ids):1145 len(all_data):2845\n",
    "\n",
    "img_names = random.sample(multi_img_ids, 10)\n",
    "# img_names = random.sample(all_data.keys(), 10)\n",
    "# all_data[img_names[0]]\n"
   ]
  },
  {
   "cell_type": "code",
   "execution_count": 28,
   "metadata": {},
   "outputs": [
    {
     "data": {
      "text/plain": [
       "['2002/08/01/big/img_2146',\n",
       " '2002/08/09/big/img_224',\n",
       " '2002/07/26/big/img_669',\n",
       " '2002/08/04/big/img_474',\n",
       " '2003/01/17/big/img_884',\n",
       " '2002/08/18/big/img_484',\n",
       " '2002/08/05/big/img_3752',\n",
       " '2002/08/11/big/img_121',\n",
       " '2002/07/20/big/img_708',\n",
       " '2002/08/27/big/img_19919']"
      ]
     },
     "execution_count": 28,
     "metadata": {},
     "output_type": "execute_result"
    }
   ],
   "source": [
    "img_names"
   ]
  },
  {
   "cell_type": "code",
   "execution_count": null,
   "metadata": {},
   "outputs": [],
   "source": []
  },
  {
   "cell_type": "markdown",
   "metadata": {},
   "source": [
    "### Upload image to IBM"
   ]
  },
  {
   "cell_type": "code",
   "execution_count": 36,
   "metadata": {},
   "outputs": [
    {
     "name": "stdout",
     "output_type": "stream",
     "text": [
      "{\n",
      "  \"images\": [\n",
      "    {\n",
      "      \"image_id\": \"image_06ec2c6be57ba98cf6d90b45e3654984\",\n",
      "      \"created\": \"2020-03-22T12:09:17.494Z\",\n",
      "      \"updated\": \"2020-03-22T12:09:17.494Z\",\n",
      "      \"source\": {\n",
      "        \"type\": \"file\"\n",
      "      },\n",
      "      \"dimensions\": {\n",
      "        \"height\": 450,\n",
      "        \"width\": 294\n",
      "      },\n",
      "      \"training_data\": {}\n",
      "    },\n",
      "    {\n",
      "      \"image_id\": \"image_59a5a9502602c1cad5a2a9f62c57f7a3\",\n",
      "      \"created\": \"2020-03-22T12:09:13.942Z\",\n",
      "      \"updated\": \"2020-03-22T12:09:13.942Z\",\n",
      "      \"source\": {\n",
      "        \"type\": \"file\"\n",
      "      },\n",
      "      \"dimensions\": {\n",
      "        \"height\": 348,\n",
      "        \"width\": 410\n",
      "      },\n",
      "      \"training_data\": {}\n",
      "    },\n",
      "    {\n",
      "      \"image_id\": \"image_7b8c87ebc5e88f80cb154ecc85c0c90c\",\n",
      "      \"created\": \"2020-03-22T12:09:16.978Z\",\n",
      "      \"updated\": \"2020-03-22T12:09:16.978Z\",\n",
      "      \"source\": {\n",
      "        \"type\": \"file\"\n",
      "      },\n",
      "      \"dimensions\": {\n",
      "        \"height\": 409,\n",
      "        \"width\": 450\n",
      "      },\n",
      "      \"training_data\": {}\n",
      "    },\n",
      "    {\n",
      "      \"image_id\": \"image_7f74fc33b410f8f6695a719869e4749a\",\n",
      "      \"created\": \"2020-03-22T12:09:16.444Z\",\n",
      "      \"updated\": \"2020-03-22T12:09:16.444Z\",\n",
      "      \"source\": {\n",
      "        \"type\": \"file\"\n",
      "      },\n",
      "      \"dimensions\": {\n",
      "        \"height\": 401,\n",
      "        \"width\": 450\n",
      "      },\n",
      "      \"training_data\": {}\n",
      "    },\n",
      "    {\n",
      "      \"image_id\": \"image_8d7d681bab19521aa9756dbd5c123f43\",\n",
      "      \"created\": \"2020-03-22T12:09:18.080Z\",\n",
      "      \"updated\": \"2020-03-22T12:09:18.080Z\",\n",
      "      \"source\": {\n",
      "        \"type\": \"file\"\n",
      "      },\n",
      "      \"dimensions\": {\n",
      "        \"height\": 300,\n",
      "        \"width\": 450\n",
      "      },\n",
      "      \"training_data\": {}\n",
      "    },\n",
      "    {\n",
      "      \"image_id\": \"image_d9789d9fa7b92551659f08bad7f6afc0\",\n",
      "      \"created\": \"2020-03-22T12:09:14.454Z\",\n",
      "      \"updated\": \"2020-03-22T12:09:14.454Z\",\n",
      "      \"source\": {\n",
      "        \"type\": \"file\"\n",
      "      },\n",
      "      \"dimensions\": {\n",
      "        \"height\": 292,\n",
      "        \"width\": 450\n",
      "      },\n",
      "      \"training_data\": {}\n",
      "    },\n",
      "    {\n",
      "      \"image_id\": \"image_d9fd774c3048762abfb17d2646085b0c\",\n",
      "      \"created\": \"2020-03-22T12:09:14.934Z\",\n",
      "      \"updated\": \"2020-03-22T12:09:14.934Z\",\n",
      "      \"source\": {\n",
      "        \"type\": \"file\"\n",
      "      },\n",
      "      \"dimensions\": {\n",
      "        \"height\": 372,\n",
      "        \"width\": 450\n",
      "      },\n",
      "      \"training_data\": {}\n",
      "    },\n",
      "    {\n",
      "      \"image_id\": \"image_ecbe194c9f2131b46513ea7618f63dfe\",\n",
      "      \"created\": \"2020-03-22T12:09:13.309Z\",\n",
      "      \"updated\": \"2020-03-22T12:09:13.309Z\",\n",
      "      \"source\": {\n",
      "        \"type\": \"file\"\n",
      "      },\n",
      "      \"dimensions\": {\n",
      "        \"height\": 336,\n",
      "        \"width\": 450\n",
      "      },\n",
      "      \"training_data\": {}\n",
      "    },\n",
      "    {\n",
      "      \"image_id\": \"image_f3fa6fe5289cc845a01582cc00a09875\",\n",
      "      \"created\": \"2020-03-22T12:09:15.436Z\",\n",
      "      \"updated\": \"2020-03-22T12:09:15.436Z\",\n",
      "      \"source\": {\n",
      "        \"type\": \"file\"\n",
      "      },\n",
      "      \"dimensions\": {\n",
      "        \"height\": 353,\n",
      "        \"width\": 450\n",
      "      },\n",
      "      \"training_data\": {}\n",
      "    },\n",
      "    {\n",
      "      \"image_id\": \"image_f4353a01b214b9e00ab402b4e6b9d1b0\",\n",
      "      \"created\": \"2020-03-22T12:09:15.949Z\",\n",
      "      \"updated\": \"2020-03-22T12:09:15.949Z\",\n",
      "      \"source\": {\n",
      "        \"type\": \"file\"\n",
      "      },\n",
      "      \"dimensions\": {\n",
      "        \"height\": 326,\n",
      "        \"width\": 450\n",
      "      },\n",
      "      \"training_data\": {}\n",
      "    }\n",
      "  ]\n",
      "}\n"
     ]
    }
   ],
   "source": [
    "# for img in img_names:\n",
    "#     img_path = os.path.join(image_path, img)\n",
    "img_paths = [os.path.join(image_path, n + \".jpg\") for n in img_names]\n",
    "\n",
    "def return_f_obj(file_name):\n",
    "    with open(file_name, \"rb\") as f:\n",
    "        return f.read()  # directly return the read bytes\n",
    "\n",
    "add_images_result = service.add_images(\n",
    "    collection_id,\n",
    "    images_file=[FileWithMetadata(return_f_obj(f)) for f in img_paths],\n",
    ").get_result()\n",
    "\n",
    "print(json.dumps(add_images_result, indent=2))\n",
    "# image_id = add_images_result.get('images')[0].get('image_id')"
   ]
  },
  {
   "cell_type": "code",
   "execution_count": 41,
   "metadata": {},
   "outputs": [
    {
     "data": {
      "text/plain": [
       "['image_06ec2c6be57ba98cf6d90b45e3654984',\n",
       " 'image_59a5a9502602c1cad5a2a9f62c57f7a3',\n",
       " 'image_7b8c87ebc5e88f80cb154ecc85c0c90c',\n",
       " 'image_7f74fc33b410f8f6695a719869e4749a',\n",
       " 'image_8d7d681bab19521aa9756dbd5c123f43',\n",
       " 'image_d9789d9fa7b92551659f08bad7f6afc0',\n",
       " 'image_d9fd774c3048762abfb17d2646085b0c',\n",
       " 'image_ecbe194c9f2131b46513ea7618f63dfe',\n",
       " 'image_f3fa6fe5289cc845a01582cc00a09875',\n",
       " 'image_f4353a01b214b9e00ab402b4e6b9d1b0']"
      ]
     },
     "execution_count": 41,
     "metadata": {},
     "output_type": "execute_result"
    }
   ],
   "source": [
    "image_ids = [img['image_id'] for img in add_images_result.get('images')]\n",
    "image_ids"
   ]
  },
  {
   "cell_type": "code",
   "execution_count": null,
   "metadata": {},
   "outputs": [],
   "source": [
    "# Manual check on IBM service, confirmed? No, cannot confirm on GUI..."
   ]
  },
  {
   "cell_type": "markdown",
   "metadata": {},
   "source": [
    "### Add in labels?"
   ]
  },
  {
   "cell_type": "code",
   "execution_count": null,
   "metadata": {},
   "outputs": [],
   "source": [
    "# add image training data (label out the )\n",
    "\n",
    "for img, image_id in zip(img_names, image_ids):\n",
    "    training_data = service.add_image_training_data(\n",
    "        collection_id,\n",
    "        image_id,\n",
    "        objects=[\n",
    "            TrainingDataObject(object='giraffe training data',\n",
    "                               location=Location(64, 270, 755, 784))\n",
    "        ]).get_result()\n",
    "    print(json.dumps(training_data, indent=2))\n"
   ]
  },
  {
   "cell_type": "code",
   "execution_count": 44,
   "metadata": {},
   "outputs": [
    {
     "name": "stdout",
     "output_type": "stream",
     "text": [
      "2002/08/01/big/img_2146\n",
      "{'faces': [[21, 9, 38, 63], [8, 48, 25, 38], [2, 141, 28, 40], [58, 116, 50, 83], [142, 47, 37, 52], [171, 161, 71, 117], [32, 273, 38, 69], [-14, 386, 33, 57]], 'count': 8}\n",
      "2002/08/09/big/img_224\n",
      "{'faces': [[30, 192, 74, 98], [136, 140, 33, 49]], 'count': 2}\n",
      "2002/07/26/big/img_669\n",
      "{'faces': [[41, 42, 74, 106], [35, 268, 77, 111]], 'count': 2}\n",
      "2002/08/04/big/img_474\n",
      "{'faces': [[-2, 74, 97, 137], [10, 296, 88, 129]], 'count': 2}\n",
      "2003/01/17/big/img_884\n",
      "{'faces': [[30, -17, 69, 111], [64, 60, 82, 89], [12, 230, 95, 138]], 'count': 3}\n",
      "2002/08/18/big/img_484\n",
      "{'faces': [[87, 58, 85, 119], [104, 193, 72, 103], [24, 304, 110, 165], [71, 243, 50, 64], [47, 180, 63, 94], [98, 402, 47, 60], [123, 31, 23, 30]], 'count': 7}\n",
      "2002/08/05/big/img_3752\n",
      "{'faces': [[15, 31, 179, 254], [32, 262, 159, 244]], 'count': 2}\n",
      "2002/08/11/big/img_121\n",
      "{'faces': [[217, 115, 75, 121], [217, 51, 50, 70]], 'count': 2}\n",
      "2002/07/20/big/img_708\n",
      "{'faces': [[38, 73, 129, 181], [31, 252, 117, 172], [69, -20, 101, 147], [-10, 143, 92, 137]], 'count': 4}\n",
      "2002/08/27/big/img_19919\n",
      "{'faces': [[27, 50, 64, 92], [41, 197, 62, 95], [32, 347, 62, 96]], 'count': 3}\n"
     ]
    }
   ],
   "source": [
    "for img in img_names:\n",
    "    print(img)\n",
    "    print(all_data[img])"
   ]
  },
  {
   "cell_type": "code",
   "execution_count": null,
   "metadata": {},
   "outputs": [],
   "source": []
  },
  {
   "cell_type": "code",
   "execution_count": null,
   "metadata": {},
   "outputs": [],
   "source": []
  },
  {
   "cell_type": "code",
   "execution_count": null,
   "metadata": {},
   "outputs": [],
   "source": []
  },
  {
   "cell_type": "code",
   "execution_count": null,
   "metadata": {},
   "outputs": [],
   "source": []
  }
 ],
 "metadata": {
  "kernelspec": {
   "display_name": "Python 3.6.6 64-bit ('ResearchNLP': conda)",
   "language": "python",
   "name": "python36664bitresearchnlpconda9fb3278d4e124d7eada32c7b62ed01c8"
  },
  "language_info": {
   "codemirror_mode": {
    "name": "ipython",
    "version": 3
   },
   "file_extension": ".py",
   "mimetype": "text/x-python",
   "name": "python",
   "nbconvert_exporter": "python",
   "pygments_lexer": "ipython3",
   "version": "3.6.6"
  }
 },
 "nbformat": 4,
 "nbformat_minor": 2
}
